{
  "cells": [
    {
      "cell_type": "markdown",
      "id": "bf9c89f4",
      "metadata": {
        "id": "bf9c89f4"
      },
      "source": [
        "Define functions to do the normalisation"
      ]
    },
    {
      "cell_type": "code",
      "source": [
        "from sklearn.datasets import make_blobs\n",
        "from sklearn.cluster import KMeans\n",
        "from matplotlib import pyplot as plt\n",
        "\n",
        "import numpy as np\n",
        "import pandas as pd\n",
        "\n",
        "import seaborn as sns\n",
        "sns.set_style(\"darkgrid\")"
      ],
      "metadata": {
        "id": "lpVAdbwbwSfX"
      },
      "id": "lpVAdbwbwSfX",
      "execution_count": null,
      "outputs": []
    },
    {
      "cell_type": "code",
      "source": [
        "X = pd.read_csv('/content/world-happiness-report-2021.csv')\n",
        "X.head()\n"
      ],
      "metadata": {
        "colab": {
          "base_uri": "https://localhost:8080/",
          "height": 444
        },
        "id": "BMtRszUBwVuK",
        "outputId": "578317dc-730a-41a3-a392-140dd6fbd33e"
      },
      "id": "BMtRszUBwVuK",
      "execution_count": null,
      "outputs": [
        {
          "output_type": "execute_result",
          "data": {
            "text/plain": [
              "  Country name Regional indicator  Ladder score  \\\n",
              "0      Finland     Western Europe         7.842   \n",
              "1      Denmark     Western Europe         7.620   \n",
              "2  Switzerland     Western Europe         7.571   \n",
              "3      Iceland     Western Europe         7.554   \n",
              "4  Netherlands     Western Europe         7.464   \n",
              "\n",
              "   Standard error of ladder score  upperwhisker  lowerwhisker  \\\n",
              "0                           0.032         7.904         7.780   \n",
              "1                           0.035         7.687         7.552   \n",
              "2                           0.036         7.643         7.500   \n",
              "3                           0.059         7.670         7.438   \n",
              "4                           0.027         7.518         7.410   \n",
              "\n",
              "   Logged GDP per capita  Social support  Healthy life expectancy  \\\n",
              "0                 10.775           0.954                     72.0   \n",
              "1                 10.933           0.954                     72.7   \n",
              "2                 11.117           0.942                     74.4   \n",
              "3                 10.878           0.983                     73.0   \n",
              "4                 10.932           0.942                     72.4   \n",
              "\n",
              "   Freedom to make life choices  Generosity  Perceptions of corruption  \\\n",
              "0                         0.949      -0.098                      0.186   \n",
              "1                         0.946       0.030                      0.179   \n",
              "2                         0.919       0.025                      0.292   \n",
              "3                         0.955       0.160                      0.673   \n",
              "4                         0.913       0.175                      0.338   \n",
              "\n",
              "   Ladder score in Dystopia  Explained by: Log GDP per capita  \\\n",
              "0                      2.43                             1.446   \n",
              "1                      2.43                             1.502   \n",
              "2                      2.43                             1.566   \n",
              "3                      2.43                             1.482   \n",
              "4                      2.43                             1.501   \n",
              "\n",
              "   Explained by: Social support  Explained by: Healthy life expectancy  \\\n",
              "0                         1.106                                  0.741   \n",
              "1                         1.108                                  0.763   \n",
              "2                         1.079                                  0.816   \n",
              "3                         1.172                                  0.772   \n",
              "4                         1.079                                  0.753   \n",
              "\n",
              "   Explained by: Freedom to make life choices  Explained by: Generosity  \\\n",
              "0                                       0.691                     0.124   \n",
              "1                                       0.686                     0.208   \n",
              "2                                       0.653                     0.204   \n",
              "3                                       0.698                     0.293   \n",
              "4                                       0.647                     0.302   \n",
              "\n",
              "   Explained by: Perceptions of corruption  Dystopia + residual  \n",
              "0                                    0.481                3.253  \n",
              "1                                    0.485                2.868  \n",
              "2                                    0.413                2.839  \n",
              "3                                    0.170                2.967  \n",
              "4                                    0.384                2.798  "
            ],
            "text/html": [
              "\n",
              "  <div id=\"df-ca70b098-de63-4184-985a-3dade0597190\">\n",
              "    <div class=\"colab-df-container\">\n",
              "      <div>\n",
              "<style scoped>\n",
              "    .dataframe tbody tr th:only-of-type {\n",
              "        vertical-align: middle;\n",
              "    }\n",
              "\n",
              "    .dataframe tbody tr th {\n",
              "        vertical-align: top;\n",
              "    }\n",
              "\n",
              "    .dataframe thead th {\n",
              "        text-align: right;\n",
              "    }\n",
              "</style>\n",
              "<table border=\"1\" class=\"dataframe\">\n",
              "  <thead>\n",
              "    <tr style=\"text-align: right;\">\n",
              "      <th></th>\n",
              "      <th>Country name</th>\n",
              "      <th>Regional indicator</th>\n",
              "      <th>Ladder score</th>\n",
              "      <th>Standard error of ladder score</th>\n",
              "      <th>upperwhisker</th>\n",
              "      <th>lowerwhisker</th>\n",
              "      <th>Logged GDP per capita</th>\n",
              "      <th>Social support</th>\n",
              "      <th>Healthy life expectancy</th>\n",
              "      <th>Freedom to make life choices</th>\n",
              "      <th>Generosity</th>\n",
              "      <th>Perceptions of corruption</th>\n",
              "      <th>Ladder score in Dystopia</th>\n",
              "      <th>Explained by: Log GDP per capita</th>\n",
              "      <th>Explained by: Social support</th>\n",
              "      <th>Explained by: Healthy life expectancy</th>\n",
              "      <th>Explained by: Freedom to make life choices</th>\n",
              "      <th>Explained by: Generosity</th>\n",
              "      <th>Explained by: Perceptions of corruption</th>\n",
              "      <th>Dystopia + residual</th>\n",
              "    </tr>\n",
              "  </thead>\n",
              "  <tbody>\n",
              "    <tr>\n",
              "      <th>0</th>\n",
              "      <td>Finland</td>\n",
              "      <td>Western Europe</td>\n",
              "      <td>7.842</td>\n",
              "      <td>0.032</td>\n",
              "      <td>7.904</td>\n",
              "      <td>7.780</td>\n",
              "      <td>10.775</td>\n",
              "      <td>0.954</td>\n",
              "      <td>72.0</td>\n",
              "      <td>0.949</td>\n",
              "      <td>-0.098</td>\n",
              "      <td>0.186</td>\n",
              "      <td>2.43</td>\n",
              "      <td>1.446</td>\n",
              "      <td>1.106</td>\n",
              "      <td>0.741</td>\n",
              "      <td>0.691</td>\n",
              "      <td>0.124</td>\n",
              "      <td>0.481</td>\n",
              "      <td>3.253</td>\n",
              "    </tr>\n",
              "    <tr>\n",
              "      <th>1</th>\n",
              "      <td>Denmark</td>\n",
              "      <td>Western Europe</td>\n",
              "      <td>7.620</td>\n",
              "      <td>0.035</td>\n",
              "      <td>7.687</td>\n",
              "      <td>7.552</td>\n",
              "      <td>10.933</td>\n",
              "      <td>0.954</td>\n",
              "      <td>72.7</td>\n",
              "      <td>0.946</td>\n",
              "      <td>0.030</td>\n",
              "      <td>0.179</td>\n",
              "      <td>2.43</td>\n",
              "      <td>1.502</td>\n",
              "      <td>1.108</td>\n",
              "      <td>0.763</td>\n",
              "      <td>0.686</td>\n",
              "      <td>0.208</td>\n",
              "      <td>0.485</td>\n",
              "      <td>2.868</td>\n",
              "    </tr>\n",
              "    <tr>\n",
              "      <th>2</th>\n",
              "      <td>Switzerland</td>\n",
              "      <td>Western Europe</td>\n",
              "      <td>7.571</td>\n",
              "      <td>0.036</td>\n",
              "      <td>7.643</td>\n",
              "      <td>7.500</td>\n",
              "      <td>11.117</td>\n",
              "      <td>0.942</td>\n",
              "      <td>74.4</td>\n",
              "      <td>0.919</td>\n",
              "      <td>0.025</td>\n",
              "      <td>0.292</td>\n",
              "      <td>2.43</td>\n",
              "      <td>1.566</td>\n",
              "      <td>1.079</td>\n",
              "      <td>0.816</td>\n",
              "      <td>0.653</td>\n",
              "      <td>0.204</td>\n",
              "      <td>0.413</td>\n",
              "      <td>2.839</td>\n",
              "    </tr>\n",
              "    <tr>\n",
              "      <th>3</th>\n",
              "      <td>Iceland</td>\n",
              "      <td>Western Europe</td>\n",
              "      <td>7.554</td>\n",
              "      <td>0.059</td>\n",
              "      <td>7.670</td>\n",
              "      <td>7.438</td>\n",
              "      <td>10.878</td>\n",
              "      <td>0.983</td>\n",
              "      <td>73.0</td>\n",
              "      <td>0.955</td>\n",
              "      <td>0.160</td>\n",
              "      <td>0.673</td>\n",
              "      <td>2.43</td>\n",
              "      <td>1.482</td>\n",
              "      <td>1.172</td>\n",
              "      <td>0.772</td>\n",
              "      <td>0.698</td>\n",
              "      <td>0.293</td>\n",
              "      <td>0.170</td>\n",
              "      <td>2.967</td>\n",
              "    </tr>\n",
              "    <tr>\n",
              "      <th>4</th>\n",
              "      <td>Netherlands</td>\n",
              "      <td>Western Europe</td>\n",
              "      <td>7.464</td>\n",
              "      <td>0.027</td>\n",
              "      <td>7.518</td>\n",
              "      <td>7.410</td>\n",
              "      <td>10.932</td>\n",
              "      <td>0.942</td>\n",
              "      <td>72.4</td>\n",
              "      <td>0.913</td>\n",
              "      <td>0.175</td>\n",
              "      <td>0.338</td>\n",
              "      <td>2.43</td>\n",
              "      <td>1.501</td>\n",
              "      <td>1.079</td>\n",
              "      <td>0.753</td>\n",
              "      <td>0.647</td>\n",
              "      <td>0.302</td>\n",
              "      <td>0.384</td>\n",
              "      <td>2.798</td>\n",
              "    </tr>\n",
              "  </tbody>\n",
              "</table>\n",
              "</div>\n",
              "      <button class=\"colab-df-convert\" onclick=\"convertToInteractive('df-ca70b098-de63-4184-985a-3dade0597190')\"\n",
              "              title=\"Convert this dataframe to an interactive table.\"\n",
              "              style=\"display:none;\">\n",
              "        \n",
              "  <svg xmlns=\"http://www.w3.org/2000/svg\" height=\"24px\"viewBox=\"0 0 24 24\"\n",
              "       width=\"24px\">\n",
              "    <path d=\"M0 0h24v24H0V0z\" fill=\"none\"/>\n",
              "    <path d=\"M18.56 5.44l.94 2.06.94-2.06 2.06-.94-2.06-.94-.94-2.06-.94 2.06-2.06.94zm-11 1L8.5 8.5l.94-2.06 2.06-.94-2.06-.94L8.5 2.5l-.94 2.06-2.06.94zm10 10l.94 2.06.94-2.06 2.06-.94-2.06-.94-.94-2.06-.94 2.06-2.06.94z\"/><path d=\"M17.41 7.96l-1.37-1.37c-.4-.4-.92-.59-1.43-.59-.52 0-1.04.2-1.43.59L10.3 9.45l-7.72 7.72c-.78.78-.78 2.05 0 2.83L4 21.41c.39.39.9.59 1.41.59.51 0 1.02-.2 1.41-.59l7.78-7.78 2.81-2.81c.8-.78.8-2.07 0-2.86zM5.41 20L4 18.59l7.72-7.72 1.47 1.35L5.41 20z\"/>\n",
              "  </svg>\n",
              "      </button>\n",
              "      \n",
              "  <style>\n",
              "    .colab-df-container {\n",
              "      display:flex;\n",
              "      flex-wrap:wrap;\n",
              "      gap: 12px;\n",
              "    }\n",
              "\n",
              "    .colab-df-convert {\n",
              "      background-color: #E8F0FE;\n",
              "      border: none;\n",
              "      border-radius: 50%;\n",
              "      cursor: pointer;\n",
              "      display: none;\n",
              "      fill: #1967D2;\n",
              "      height: 32px;\n",
              "      padding: 0 0 0 0;\n",
              "      width: 32px;\n",
              "    }\n",
              "\n",
              "    .colab-df-convert:hover {\n",
              "      background-color: #E2EBFA;\n",
              "      box-shadow: 0px 1px 2px rgba(60, 64, 67, 0.3), 0px 1px 3px 1px rgba(60, 64, 67, 0.15);\n",
              "      fill: #174EA6;\n",
              "    }\n",
              "\n",
              "    [theme=dark] .colab-df-convert {\n",
              "      background-color: #3B4455;\n",
              "      fill: #D2E3FC;\n",
              "    }\n",
              "\n",
              "    [theme=dark] .colab-df-convert:hover {\n",
              "      background-color: #434B5C;\n",
              "      box-shadow: 0px 1px 3px 1px rgba(0, 0, 0, 0.15);\n",
              "      filter: drop-shadow(0px 1px 2px rgba(0, 0, 0, 0.3));\n",
              "      fill: #FFFFFF;\n",
              "    }\n",
              "  </style>\n",
              "\n",
              "      <script>\n",
              "        const buttonEl =\n",
              "          document.querySelector('#df-ca70b098-de63-4184-985a-3dade0597190 button.colab-df-convert');\n",
              "        buttonEl.style.display =\n",
              "          google.colab.kernel.accessAllowed ? 'block' : 'none';\n",
              "\n",
              "        async function convertToInteractive(key) {\n",
              "          const element = document.querySelector('#df-ca70b098-de63-4184-985a-3dade0597190');\n",
              "          const dataTable =\n",
              "            await google.colab.kernel.invokeFunction('convertToInteractive',\n",
              "                                                     [key], {});\n",
              "          if (!dataTable) return;\n",
              "\n",
              "          const docLinkHtml = 'Like what you see? Visit the ' +\n",
              "            '<a target=\"_blank\" href=https://colab.research.google.com/notebooks/data_table.ipynb>data table notebook</a>'\n",
              "            + ' to learn more about interactive tables.';\n",
              "          element.innerHTML = '';\n",
              "          dataTable['output_type'] = 'display_data';\n",
              "          await google.colab.output.renderOutput(dataTable, element);\n",
              "          const docLink = document.createElement('div');\n",
              "          docLink.innerHTML = docLinkHtml;\n",
              "          element.appendChild(docLink);\n",
              "        }\n",
              "      </script>\n",
              "    </div>\n",
              "  </div>\n",
              "  "
            ]
          },
          "metadata": {},
          "execution_count": 2
        }
      ]
    },
    {
      "cell_type": "code",
      "source": [
        "Y = X.filter([\"Logged GDP per capita\", \"Perceptions of corruption\" ], axis = 1)"
      ],
      "metadata": {
        "id": "r7Jv4wrSwudz"
      },
      "id": "r7Jv4wrSwudz",
      "execution_count": null,
      "outputs": []
    },
    {
      "cell_type": "code",
      "source": [
        "Y"
      ],
      "metadata": {
        "colab": {
          "base_uri": "https://localhost:8080/",
          "height": 423
        },
        "id": "BTlARHbwhqHb",
        "outputId": "e82186e0-8bbc-47c4-8e32-f0afe771fd7c"
      },
      "id": "BTlARHbwhqHb",
      "execution_count": null,
      "outputs": [
        {
          "output_type": "execute_result",
          "data": {
            "text/plain": [
              "     Logged GDP per capita  Perceptions of corruption\n",
              "0                   10.775                      0.186\n",
              "1                   10.933                      0.179\n",
              "2                   11.117                      0.292\n",
              "3                   10.878                      0.673\n",
              "4                   10.932                      0.338\n",
              "..                     ...                        ...\n",
              "144                  7.926                      0.915\n",
              "145                  9.782                      0.801\n",
              "146                  7.676                      0.167\n",
              "147                  7.943                      0.821\n",
              "148                  7.695                      0.924\n",
              "\n",
              "[149 rows x 2 columns]"
            ],
            "text/html": [
              "\n",
              "  <div id=\"df-b826e5be-2ed2-4d24-9d86-1c626867af8e\">\n",
              "    <div class=\"colab-df-container\">\n",
              "      <div>\n",
              "<style scoped>\n",
              "    .dataframe tbody tr th:only-of-type {\n",
              "        vertical-align: middle;\n",
              "    }\n",
              "\n",
              "    .dataframe tbody tr th {\n",
              "        vertical-align: top;\n",
              "    }\n",
              "\n",
              "    .dataframe thead th {\n",
              "        text-align: right;\n",
              "    }\n",
              "</style>\n",
              "<table border=\"1\" class=\"dataframe\">\n",
              "  <thead>\n",
              "    <tr style=\"text-align: right;\">\n",
              "      <th></th>\n",
              "      <th>Logged GDP per capita</th>\n",
              "      <th>Perceptions of corruption</th>\n",
              "    </tr>\n",
              "  </thead>\n",
              "  <tbody>\n",
              "    <tr>\n",
              "      <th>0</th>\n",
              "      <td>10.775</td>\n",
              "      <td>0.186</td>\n",
              "    </tr>\n",
              "    <tr>\n",
              "      <th>1</th>\n",
              "      <td>10.933</td>\n",
              "      <td>0.179</td>\n",
              "    </tr>\n",
              "    <tr>\n",
              "      <th>2</th>\n",
              "      <td>11.117</td>\n",
              "      <td>0.292</td>\n",
              "    </tr>\n",
              "    <tr>\n",
              "      <th>3</th>\n",
              "      <td>10.878</td>\n",
              "      <td>0.673</td>\n",
              "    </tr>\n",
              "    <tr>\n",
              "      <th>4</th>\n",
              "      <td>10.932</td>\n",
              "      <td>0.338</td>\n",
              "    </tr>\n",
              "    <tr>\n",
              "      <th>...</th>\n",
              "      <td>...</td>\n",
              "      <td>...</td>\n",
              "    </tr>\n",
              "    <tr>\n",
              "      <th>144</th>\n",
              "      <td>7.926</td>\n",
              "      <td>0.915</td>\n",
              "    </tr>\n",
              "    <tr>\n",
              "      <th>145</th>\n",
              "      <td>9.782</td>\n",
              "      <td>0.801</td>\n",
              "    </tr>\n",
              "    <tr>\n",
              "      <th>146</th>\n",
              "      <td>7.676</td>\n",
              "      <td>0.167</td>\n",
              "    </tr>\n",
              "    <tr>\n",
              "      <th>147</th>\n",
              "      <td>7.943</td>\n",
              "      <td>0.821</td>\n",
              "    </tr>\n",
              "    <tr>\n",
              "      <th>148</th>\n",
              "      <td>7.695</td>\n",
              "      <td>0.924</td>\n",
              "    </tr>\n",
              "  </tbody>\n",
              "</table>\n",
              "<p>149 rows × 2 columns</p>\n",
              "</div>\n",
              "      <button class=\"colab-df-convert\" onclick=\"convertToInteractive('df-b826e5be-2ed2-4d24-9d86-1c626867af8e')\"\n",
              "              title=\"Convert this dataframe to an interactive table.\"\n",
              "              style=\"display:none;\">\n",
              "        \n",
              "  <svg xmlns=\"http://www.w3.org/2000/svg\" height=\"24px\"viewBox=\"0 0 24 24\"\n",
              "       width=\"24px\">\n",
              "    <path d=\"M0 0h24v24H0V0z\" fill=\"none\"/>\n",
              "    <path d=\"M18.56 5.44l.94 2.06.94-2.06 2.06-.94-2.06-.94-.94-2.06-.94 2.06-2.06.94zm-11 1L8.5 8.5l.94-2.06 2.06-.94-2.06-.94L8.5 2.5l-.94 2.06-2.06.94zm10 10l.94 2.06.94-2.06 2.06-.94-2.06-.94-.94-2.06-.94 2.06-2.06.94z\"/><path d=\"M17.41 7.96l-1.37-1.37c-.4-.4-.92-.59-1.43-.59-.52 0-1.04.2-1.43.59L10.3 9.45l-7.72 7.72c-.78.78-.78 2.05 0 2.83L4 21.41c.39.39.9.59 1.41.59.51 0 1.02-.2 1.41-.59l7.78-7.78 2.81-2.81c.8-.78.8-2.07 0-2.86zM5.41 20L4 18.59l7.72-7.72 1.47 1.35L5.41 20z\"/>\n",
              "  </svg>\n",
              "      </button>\n",
              "      \n",
              "  <style>\n",
              "    .colab-df-container {\n",
              "      display:flex;\n",
              "      flex-wrap:wrap;\n",
              "      gap: 12px;\n",
              "    }\n",
              "\n",
              "    .colab-df-convert {\n",
              "      background-color: #E8F0FE;\n",
              "      border: none;\n",
              "      border-radius: 50%;\n",
              "      cursor: pointer;\n",
              "      display: none;\n",
              "      fill: #1967D2;\n",
              "      height: 32px;\n",
              "      padding: 0 0 0 0;\n",
              "      width: 32px;\n",
              "    }\n",
              "\n",
              "    .colab-df-convert:hover {\n",
              "      background-color: #E2EBFA;\n",
              "      box-shadow: 0px 1px 2px rgba(60, 64, 67, 0.3), 0px 1px 3px 1px rgba(60, 64, 67, 0.15);\n",
              "      fill: #174EA6;\n",
              "    }\n",
              "\n",
              "    [theme=dark] .colab-df-convert {\n",
              "      background-color: #3B4455;\n",
              "      fill: #D2E3FC;\n",
              "    }\n",
              "\n",
              "    [theme=dark] .colab-df-convert:hover {\n",
              "      background-color: #434B5C;\n",
              "      box-shadow: 0px 1px 3px 1px rgba(0, 0, 0, 0.15);\n",
              "      filter: drop-shadow(0px 1px 2px rgba(0, 0, 0, 0.3));\n",
              "      fill: #FFFFFF;\n",
              "    }\n",
              "  </style>\n",
              "\n",
              "      <script>\n",
              "        const buttonEl =\n",
              "          document.querySelector('#df-b826e5be-2ed2-4d24-9d86-1c626867af8e button.colab-df-convert');\n",
              "        buttonEl.style.display =\n",
              "          google.colab.kernel.accessAllowed ? 'block' : 'none';\n",
              "\n",
              "        async function convertToInteractive(key) {\n",
              "          const element = document.querySelector('#df-b826e5be-2ed2-4d24-9d86-1c626867af8e');\n",
              "          const dataTable =\n",
              "            await google.colab.kernel.invokeFunction('convertToInteractive',\n",
              "                                                     [key], {});\n",
              "          if (!dataTable) return;\n",
              "\n",
              "          const docLinkHtml = 'Like what you see? Visit the ' +\n",
              "            '<a target=\"_blank\" href=https://colab.research.google.com/notebooks/data_table.ipynb>data table notebook</a>'\n",
              "            + ' to learn more about interactive tables.';\n",
              "          element.innerHTML = '';\n",
              "          dataTable['output_type'] = 'display_data';\n",
              "          await google.colab.output.renderOutput(dataTable, element);\n",
              "          const docLink = document.createElement('div');\n",
              "          docLink.innerHTML = docLinkHtml;\n",
              "          element.appendChild(docLink);\n",
              "        }\n",
              "      </script>\n",
              "    </div>\n",
              "  </div>\n",
              "  "
            ]
          },
          "metadata": {},
          "execution_count": 4
        }
      ]
    },
    {
      "cell_type": "code",
      "source": [
        "Z = X.filter([\"Ladder score\", \"Perceptions of corruption\" ])\n",
        "Z"
      ],
      "metadata": {
        "colab": {
          "base_uri": "https://localhost:8080/",
          "height": 423
        },
        "id": "zusF3Ks7i1oE",
        "outputId": "59727267-4826-4611-b99c-90b7e51d1062"
      },
      "id": "zusF3Ks7i1oE",
      "execution_count": null,
      "outputs": [
        {
          "output_type": "execute_result",
          "data": {
            "text/plain": [
              "     Ladder score  Perceptions of corruption\n",
              "0           7.842                      0.186\n",
              "1           7.620                      0.179\n",
              "2           7.571                      0.292\n",
              "3           7.554                      0.673\n",
              "4           7.464                      0.338\n",
              "..            ...                        ...\n",
              "144         3.512                      0.915\n",
              "145         3.467                      0.801\n",
              "146         3.415                      0.167\n",
              "147         3.145                      0.821\n",
              "148         2.523                      0.924\n",
              "\n",
              "[149 rows x 2 columns]"
            ],
            "text/html": [
              "\n",
              "  <div id=\"df-731bd60c-0e01-44d8-8480-29e829a23370\">\n",
              "    <div class=\"colab-df-container\">\n",
              "      <div>\n",
              "<style scoped>\n",
              "    .dataframe tbody tr th:only-of-type {\n",
              "        vertical-align: middle;\n",
              "    }\n",
              "\n",
              "    .dataframe tbody tr th {\n",
              "        vertical-align: top;\n",
              "    }\n",
              "\n",
              "    .dataframe thead th {\n",
              "        text-align: right;\n",
              "    }\n",
              "</style>\n",
              "<table border=\"1\" class=\"dataframe\">\n",
              "  <thead>\n",
              "    <tr style=\"text-align: right;\">\n",
              "      <th></th>\n",
              "      <th>Ladder score</th>\n",
              "      <th>Perceptions of corruption</th>\n",
              "    </tr>\n",
              "  </thead>\n",
              "  <tbody>\n",
              "    <tr>\n",
              "      <th>0</th>\n",
              "      <td>7.842</td>\n",
              "      <td>0.186</td>\n",
              "    </tr>\n",
              "    <tr>\n",
              "      <th>1</th>\n",
              "      <td>7.620</td>\n",
              "      <td>0.179</td>\n",
              "    </tr>\n",
              "    <tr>\n",
              "      <th>2</th>\n",
              "      <td>7.571</td>\n",
              "      <td>0.292</td>\n",
              "    </tr>\n",
              "    <tr>\n",
              "      <th>3</th>\n",
              "      <td>7.554</td>\n",
              "      <td>0.673</td>\n",
              "    </tr>\n",
              "    <tr>\n",
              "      <th>4</th>\n",
              "      <td>7.464</td>\n",
              "      <td>0.338</td>\n",
              "    </tr>\n",
              "    <tr>\n",
              "      <th>...</th>\n",
              "      <td>...</td>\n",
              "      <td>...</td>\n",
              "    </tr>\n",
              "    <tr>\n",
              "      <th>144</th>\n",
              "      <td>3.512</td>\n",
              "      <td>0.915</td>\n",
              "    </tr>\n",
              "    <tr>\n",
              "      <th>145</th>\n",
              "      <td>3.467</td>\n",
              "      <td>0.801</td>\n",
              "    </tr>\n",
              "    <tr>\n",
              "      <th>146</th>\n",
              "      <td>3.415</td>\n",
              "      <td>0.167</td>\n",
              "    </tr>\n",
              "    <tr>\n",
              "      <th>147</th>\n",
              "      <td>3.145</td>\n",
              "      <td>0.821</td>\n",
              "    </tr>\n",
              "    <tr>\n",
              "      <th>148</th>\n",
              "      <td>2.523</td>\n",
              "      <td>0.924</td>\n",
              "    </tr>\n",
              "  </tbody>\n",
              "</table>\n",
              "<p>149 rows × 2 columns</p>\n",
              "</div>\n",
              "      <button class=\"colab-df-convert\" onclick=\"convertToInteractive('df-731bd60c-0e01-44d8-8480-29e829a23370')\"\n",
              "              title=\"Convert this dataframe to an interactive table.\"\n",
              "              style=\"display:none;\">\n",
              "        \n",
              "  <svg xmlns=\"http://www.w3.org/2000/svg\" height=\"24px\"viewBox=\"0 0 24 24\"\n",
              "       width=\"24px\">\n",
              "    <path d=\"M0 0h24v24H0V0z\" fill=\"none\"/>\n",
              "    <path d=\"M18.56 5.44l.94 2.06.94-2.06 2.06-.94-2.06-.94-.94-2.06-.94 2.06-2.06.94zm-11 1L8.5 8.5l.94-2.06 2.06-.94-2.06-.94L8.5 2.5l-.94 2.06-2.06.94zm10 10l.94 2.06.94-2.06 2.06-.94-2.06-.94-.94-2.06-.94 2.06-2.06.94z\"/><path d=\"M17.41 7.96l-1.37-1.37c-.4-.4-.92-.59-1.43-.59-.52 0-1.04.2-1.43.59L10.3 9.45l-7.72 7.72c-.78.78-.78 2.05 0 2.83L4 21.41c.39.39.9.59 1.41.59.51 0 1.02-.2 1.41-.59l7.78-7.78 2.81-2.81c.8-.78.8-2.07 0-2.86zM5.41 20L4 18.59l7.72-7.72 1.47 1.35L5.41 20z\"/>\n",
              "  </svg>\n",
              "      </button>\n",
              "      \n",
              "  <style>\n",
              "    .colab-df-container {\n",
              "      display:flex;\n",
              "      flex-wrap:wrap;\n",
              "      gap: 12px;\n",
              "    }\n",
              "\n",
              "    .colab-df-convert {\n",
              "      background-color: #E8F0FE;\n",
              "      border: none;\n",
              "      border-radius: 50%;\n",
              "      cursor: pointer;\n",
              "      display: none;\n",
              "      fill: #1967D2;\n",
              "      height: 32px;\n",
              "      padding: 0 0 0 0;\n",
              "      width: 32px;\n",
              "    }\n",
              "\n",
              "    .colab-df-convert:hover {\n",
              "      background-color: #E2EBFA;\n",
              "      box-shadow: 0px 1px 2px rgba(60, 64, 67, 0.3), 0px 1px 3px 1px rgba(60, 64, 67, 0.15);\n",
              "      fill: #174EA6;\n",
              "    }\n",
              "\n",
              "    [theme=dark] .colab-df-convert {\n",
              "      background-color: #3B4455;\n",
              "      fill: #D2E3FC;\n",
              "    }\n",
              "\n",
              "    [theme=dark] .colab-df-convert:hover {\n",
              "      background-color: #434B5C;\n",
              "      box-shadow: 0px 1px 3px 1px rgba(0, 0, 0, 0.15);\n",
              "      filter: drop-shadow(0px 1px 2px rgba(0, 0, 0, 0.3));\n",
              "      fill: #FFFFFF;\n",
              "    }\n",
              "  </style>\n",
              "\n",
              "      <script>\n",
              "        const buttonEl =\n",
              "          document.querySelector('#df-731bd60c-0e01-44d8-8480-29e829a23370 button.colab-df-convert');\n",
              "        buttonEl.style.display =\n",
              "          google.colab.kernel.accessAllowed ? 'block' : 'none';\n",
              "\n",
              "        async function convertToInteractive(key) {\n",
              "          const element = document.querySelector('#df-731bd60c-0e01-44d8-8480-29e829a23370');\n",
              "          const dataTable =\n",
              "            await google.colab.kernel.invokeFunction('convertToInteractive',\n",
              "                                                     [key], {});\n",
              "          if (!dataTable) return;\n",
              "\n",
              "          const docLinkHtml = 'Like what you see? Visit the ' +\n",
              "            '<a target=\"_blank\" href=https://colab.research.google.com/notebooks/data_table.ipynb>data table notebook</a>'\n",
              "            + ' to learn more about interactive tables.';\n",
              "          element.innerHTML = '';\n",
              "          dataTable['output_type'] = 'display_data';\n",
              "          await google.colab.output.renderOutput(dataTable, element);\n",
              "          const docLink = document.createElement('div');\n",
              "          docLink.innerHTML = docLinkHtml;\n",
              "          element.appendChild(docLink);\n",
              "        }\n",
              "      </script>\n",
              "    </div>\n",
              "  </div>\n",
              "  "
            ]
          },
          "metadata": {},
          "execution_count": 5
        }
      ]
    },
    {
      "cell_type": "code",
      "source": [
        "sns.scatterplot(data = Y, x=\"Logged GDP per capita\", y =\"Perceptions of corruption\", c = [\"green\"])"
      ],
      "metadata": {
        "colab": {
          "base_uri": "https://localhost:8080/",
          "height": 297
        },
        "id": "EV7cDjXXipYT",
        "outputId": "fd6e2451-b00b-4e6d-9d55-4dcd17bb62fd"
      },
      "id": "EV7cDjXXipYT",
      "execution_count": null,
      "outputs": [
        {
          "output_type": "execute_result",
          "data": {
            "text/plain": [
              "<matplotlib.axes._subplots.AxesSubplot at 0x7fae1ac4c3d0>"
            ]
          },
          "metadata": {},
          "execution_count": 6
        },
        {
          "output_type": "display_data",
          "data": {
            "text/plain": [
              "<Figure size 432x288 with 1 Axes>"
            ],
            "image/png": "[encoded data removed]"
          },
          "metadata": {
            "needs_background": "light"
          }
        }
      ]
    },
    {
      "cell_type": "code",
      "source": [
        "sns.scatterplot(data = X, x=\"Logged GDP per capita\", y =\"Perceptions of corruption\", c = [\"green\"])"
      ],
      "metadata": {
        "colab": {
          "base_uri": "https://localhost:8080/",
          "height": 297
        },
        "id": "4tsPQjQkw-gw",
        "outputId": "3afa9701-a913-4c8e-ea81-22570e302978"
      },
      "id": "4tsPQjQkw-gw",
      "execution_count": null,
      "outputs": [
        {
          "output_type": "execute_result",
          "data": {
            "text/plain": [
              "<matplotlib.axes._subplots.AxesSubplot at 0x7fae1928ddd0>"
            ]
          },
          "metadata": {},
          "execution_count": 7
        },
        {
          "output_type": "display_data",
          "data": {
            "text/plain": [
              "<Figure size 432x288 with 1 Axes>"
            ],
            "image/png": "[encoded data removed]"
          },
          "metadata": {
            "needs_background": "light"
          }
        }
      ]
    },
    {
      "cell_type": "code",
      "source": [
        ""
      ],
      "metadata": {
        "id": "y-p64-_V7ONT"
      },
      "id": "y-p64-_V7ONT",
      "execution_count": null,
      "outputs": []
    },
    {
      "cell_type": "code",
      "source": [
        "model = KMeans(n_clusters= 5)\n",
        "model.fit(Y)"
      ],
      "metadata": {
        "colab": {
          "base_uri": "https://localhost:8080/"
        },
        "id": "6K2np5ZNxL9a",
        "outputId": "b168d9bb-098a-42ae-bbed-175bd40d11d3"
      },
      "id": "6K2np5ZNxL9a",
      "execution_count": null,
      "outputs": [
        {
          "output_type": "execute_result",
          "data": {
            "text/plain": [
              "KMeans(n_clusters=5)"
            ]
          },
          "metadata": {},
          "execution_count": 8
        }
      ]
    },
    {
      "cell_type": "code",
      "source": [
        "KMeans(n_clusters=5)\n"
      ],
      "metadata": {
        "colab": {
          "base_uri": "https://localhost:8080/"
        },
        "id": "3Khuj4b2xTUv",
        "outputId": "5ff41c2d-c2e7-4996-ad10-fc137e1f53a7"
      },
      "id": "3Khuj4b2xTUv",
      "execution_count": null,
      "outputs": [
        {
          "output_type": "execute_result",
          "data": {
            "text/plain": [
              "KMeans(n_clusters=5)"
            ]
          },
          "metadata": {},
          "execution_count": 9
        }
      ]
    },
    {
      "cell_type": "code",
      "source": [
        "sns.scatterplot(data = X, x=\"Logged GDP per capita\", y =\"Perceptions of corruption\", c= model.labels_, cmap= 'rainbow' )\n",
        "\n",
        "sns.scatterplot(x=model.cluster_centers_[:, 0], y=model.cluster_centers_[:, 1], c=['black'])"
      ],
      "metadata": {
        "colab": {
          "base_uri": "https://localhost:8080/",
          "height": 297
        },
        "id": "6JEJHU3PY46e",
        "outputId": "a28f28a2-d4c1-411a-9b05-69e9fcb76e63"
      },
      "id": "6JEJHU3PY46e",
      "execution_count": null,
      "outputs": [
        {
          "output_type": "execute_result",
          "data": {
            "text/plain": [
              "<matplotlib.axes._subplots.AxesSubplot at 0x7fae18daea90>"
            ]
          },
          "metadata": {},
          "execution_count": 10
        },
        {
          "output_type": "display_data",
          "data": {
            "text/plain": [
              "<Figure size 432x288 with 1 Axes>"
            ],
            "image/png": "[encoded data removed]"
          },
          "metadata": {
            "needs_background": "light"
          }
        }
      ]
    },
    {
      "cell_type": "code",
      "source": [
        "import pandas as pd\n",
        "import numpy as np\n",
        "import sklearn.cluster as cluster\n",
        "\n",
        "import matplotlib.pyplot as plt\n",
        "%matplotlib inline\n",
        "\n",
        "def norm(array):\n",
        "    \"\"\" Returns array normalised to [0,1]. Array can be a numpy array \n",
        "    or a column of a dataframe\"\"\"\n",
        "\n",
        "    min_val = np.min(array)\n",
        "    max_val = np.max(array)\n",
        "    \n",
        "    scaled = (array-min_val) / (max_val-min_val)\n",
        "    \n",
        "    return scaled\n",
        "\n",
        "\n",
        "def norm_df(df):\n",
        "    \"\"\" \n",
        "    Returns all columns of the dataframe normalised to [0,1] with the \n",
        "    exception the first (containing the names)\n",
        "    Calls function norm to do the normalisation of one column, but\n",
        "    doing all in one function is also fine. \n",
        "    \"\"\"\n",
        "    \n",
        "    # iterate over all columns\n",
        "    for col in df.columns[1:]:     # excluding the first column\n",
        "        df[col] = norm(df[col])\n",
        "        \n",
        "    return df"
      ],
      "metadata": {
        "id": "ssp6lvNxye-J"
      },
      "id": "ssp6lvNxye-J",
      "execution_count": null,
      "outputs": []
    },
    {
      "cell_type": "code",
      "source": [
        "df_fish = Y\n",
        "print(df_fish.describe())\n",
        "print(df_fish.corr())\n",
        "print()\n",
        "\n",
        "# normalise result and inspect results\n",
        "df_fish = norm_df(df_fish)\n",
        "print(df_fish.describe())\n",
        "print()"
      ],
      "metadata": {
        "colab": {
          "base_uri": "https://localhost:8080/"
        },
        "id": "SODsKbgAygaG",
        "outputId": "a20b5afb-5ed5-4dd4-8846-9c19c55ee3d3"
      },
      "id": "SODsKbgAygaG",
      "execution_count": null,
      "outputs": [
        {
          "output_type": "stream",
          "name": "stdout",
          "text": [
            "       Logged GDP per capita  Perceptions of corruption\n",
            "count             149.000000                 149.000000\n",
            "mean                9.432208                   0.727450\n",
            "std                 1.158601                   0.179226\n",
            "min                 6.635000                   0.082000\n",
            "25%                 8.541000                   0.667000\n",
            "50%                 9.569000                   0.781000\n",
            "75%                10.421000                   0.845000\n",
            "max                11.647000                   0.939000\n",
            "                           Logged GDP per capita  Perceptions of corruption\n",
            "Logged GDP per capita                   1.000000                  -0.342337\n",
            "Perceptions of corruption              -0.342337                   1.000000\n",
            "\n",
            "       Logged GDP per capita  Perceptions of corruption\n",
            "count             149.000000                 149.000000\n",
            "mean                9.432208                   0.753150\n",
            "std                 1.158601                   0.209132\n",
            "min                 6.635000                   0.000000\n",
            "25%                 8.541000                   0.682614\n",
            "50%                 9.569000                   0.815636\n",
            "75%                10.421000                   0.890315\n",
            "max                11.647000                   1.000000\n",
            "\n"
          ]
        }
      ]
    },
    {
      "cell_type": "code",
      "source": [
        "pip install wbgapi"
      ],
      "metadata": {
        "colab": {
          "base_uri": "https://localhost:8080/"
        },
        "id": "sijM7OS73kmF",
        "outputId": "d4d6daa3-e6d4-4059-c54e-fa0d35495818"
      },
      "id": "sijM7OS73kmF",
      "execution_count": null,
      "outputs": [
        {
          "output_type": "stream",
          "name": "stdout",
          "text": [
            "Collecting wbgapi\n",
            "  Downloading wbgapi-1.0.7-py3-none-any.whl (35 kB)\n",
            "Requirement already satisfied: PyYAML in /usr/local/lib/python3.7/dist-packages (from wbgapi) (3.13)\n",
            "Requirement already satisfied: requests in /usr/local/lib/python3.7/dist-packages (from wbgapi) (2.23.0)\n",
            "Requirement already satisfied: tabulate in /usr/local/lib/python3.7/dist-packages (from wbgapi) (0.8.9)\n",
            "Requirement already satisfied: chardet<4,>=3.0.2 in /usr/local/lib/python3.7/dist-packages (from requests->wbgapi) (3.0.4)\n",
            "Requirement already satisfied: idna<3,>=2.5 in /usr/local/lib/python3.7/dist-packages (from requests->wbgapi) (2.10)\n",
            "Requirement already satisfied: certifi>=2017.4.17 in /usr/local/lib/python3.7/dist-packages (from requests->wbgapi) (2021.10.8)\n",
            "Requirement already satisfied: urllib3!=1.25.0,!=1.25.1,<1.26,>=1.21.1 in /usr/local/lib/python3.7/dist-packages (from requests->wbgapi) (1.24.3)\n",
            "Installing collected packages: wbgapi\n",
            "Successfully installed wbgapi-1.0.7\n"
          ]
        }
      ]
    },
    {
      "cell_type": "code",
      "source": [
        "####### kmeans set up the clusterer, 4 expected clusters\n",
        "kmeans = cluster.KMeans(n_clusters=4)\n",
        "\n",
        "# extract columns for fitting\n",
        "df_fit = df_fish[[\"Logged GDP per capita\", \"Perceptions of corruption\"]].copy()\n",
        "kmeans.fit(df_fit)     \n",
        "\n",
        "# extract labels and cluster centres\n",
        "labels = kmeans.labels_\n",
        "cen = kmeans.cluster_centers_\n",
        "\n",
        "# plot using the labels to select colour\n",
        "plt.figure(figsize=(5.0,5.0))\n",
        "\n",
        "col = [\"blue\", \"red\", \"green\", \"magenta\"]\n",
        "for l in range(4):     # loop over the different labels\n",
        "    plt.plot(df_fit[\"Logged GDP per capita\"][labels==l], df_fit[\"Perceptions of corruption\"][labels==l], \"o\", markersize=3, color=col[l])\n",
        "    \n",
        "# show cluster centres\n",
        "for ic in range(4):\n",
        "    xc, yc = cen[ic,:]\n",
        "    plt.plot(xc, yc, \"dk\", markersize=10)\n",
        "    \n",
        "plt.xlabel(\"Logged GDP per capita\")\n",
        "plt.ylabel(\"Perceptions of corruption\")\n",
        "plt.show()"
      ],
      "metadata": {
        "colab": {
          "base_uri": "https://localhost:8080/",
          "height": 334
        },
        "id": "aKuCi_mkzp5K",
        "outputId": "266e2ce8-bb03-460a-8d6d-4984b29274b2"
      },
      "id": "aKuCi_mkzp5K",
      "execution_count": null,
      "outputs": [
        {
          "output_type": "display_data",
          "data": {
            "text/plain": [
              "<Figure size 360x360 with 1 Axes>"
            ],
            "image/png": "[encoded data removed]"
          },
          "metadata": {
            "needs_background": "light"
          }
        }
      ]
    },
    {
      "cell_type": "code",
      "source": [
        "##### setting up agglomerative clustering for 4 clusters\n",
        "ac = cluster.AgglomerativeClustering(n_clusters=4)\n",
        "\n",
        "# carry out the fitting\n",
        "ac.fit(df_fit)\n",
        "\n",
        "labels = ac.labels_\n",
        "\n",
        "# The clusterer does not return cluster centres, but they are easily computed\n",
        "xcen = []\n",
        "ycen = []\n",
        "for ic in range(4):\n",
        "    xc = np.average(df_fit[\"Logged GDP per capita\"][labels==ic])\n",
        "    yc = np.average(df_fit[\"Perceptions of corruption\"][labels==ic])\n",
        "    xcen.append(xc)\n",
        "    ycen.append(yc)\n",
        "\n",
        "# plot using the labels to select colour\n",
        "plt.figure(figsize=(5.0,5.0))\n",
        "\n",
        "col = [\"blue\", \"red\", \"green\", \"magenta\"]\n",
        "for l in range(0,4):     # loop over the different labels\n",
        "    plt.plot(df_fit[\"Logged GDP per capita\"][labels==l], df_fit[\"Perceptions of corruption\"][labels==l], \"o\", markersize=3, color=col[l])\n",
        "    \n",
        "# show cluster centres\n",
        "for ic in range(4):\n",
        "    plt.plot(xcen[ic], ycen[ic], \"dk\", markersize=10)\n",
        "    \n",
        "plt.xlabel(\"total length\")\n",
        "plt.ylabel(\"height\")\n",
        "plt.show()\n",
        "\n",
        "\n",
        "###### writing labels into df_fish, sorting and exporting as excel file\n",
        "df_fish[\"labels\"] = labels\n",
        "df_fish = df_fish.sort_values([\"labels\"], ignore_index=True)\n"
      ],
      "metadata": {
        "colab": {
          "base_uri": "https://localhost:8080/",
          "height": 334
        },
        "id": "3HOX9yFb0DAo",
        "outputId": "dbe7d654-107f-43a2-bf55-34163cd377b2"
      },
      "id": "3HOX9yFb0DAo",
      "execution_count": null,
      "outputs": [
        {
          "output_type": "display_data",
          "data": {
            "text/plain": [
              "<Figure size 360x360 with 1 Axes>"
            ],
            "image/png": "[encoded data removed]"
          },
          "metadata": {
            "needs_background": "light"
          }
        }
      ]
    },
    {
      "cell_type": "code",
      "source": [
        ""
      ],
      "metadata": {
        "id": "HuTzmyxbjN5U"
      },
      "id": "HuTzmyxbjN5U",
      "execution_count": null,
      "outputs": []
    },
    {
      "cell_type": "code",
      "source": [
        ""
      ],
      "metadata": {
        "id": "QY9EFJO6jzRg"
      },
      "id": "QY9EFJO6jzRg",
      "execution_count": null,
      "outputs": []
    },
    {
      "cell_type": "code",
      "source": [
        "\n",
        "def exp_growth(t, scale, growth):\n",
        "    \"\"\" Computes exponential function with scale and growth as free parameters\n",
        "    \"\"\"\n",
        "    \n",
        "    f = scale * np.exp(growth * (t-1950)) \n",
        "    \n",
        "    return f\n",
        "        \n",
        "\n",
        "def logistics(t, scale, growth, t0):\n",
        "    \"\"\" Computes logistics function with scale, growth raat\n",
        "    and time of the turning point as free parameters\n",
        "    \"\"\"\n",
        "    \n",
        "    f = scale / (1.0 + np.exp(-growth * (t - t0)))\n",
        "    \n",
        "    return f"
      ],
      "metadata": {
        "id": "_LkIKI278ik4"
      },
      "id": "_LkIKI278ik4",
      "execution_count": null,
      "outputs": []
    },
    {
      "cell_type": "code",
      "source": [
        "df_pop = pd.read_csv(\"/content/world_ind_pop_data.csv\")\n",
        "\n",
        "# have a look\n",
        "print(df_pop)"
      ],
      "metadata": {
        "colab": {
          "base_uri": "https://localhost:8080/"
        },
        "id": "3mfITLSt-SBY",
        "outputId": "f06cf87a-0998-45fd-85c3-0822b9876ed8"
      },
      "id": "3mfITLSt-SBY",
      "execution_count": null,
      "outputs": [
        {
          "output_type": "stream",
          "name": "stdout",
          "text": [
            "                                   CountryName CountryCode  Year  \\\n",
            "0                                   Arab World         ARB  1960   \n",
            "1                       Caribbean small states         CSS  1960   \n",
            "2               Central Europe and the Baltics         CEB  1960   \n",
            "3      East Asia & Pacific (all income levels)         EAS  1960   \n",
            "4        East Asia & Pacific (developing only)         EAP  1960   \n",
            "...                                        ...         ...   ...   \n",
            "13369                    Virgin Islands (U.S.)         VIR  2014   \n",
            "13370                       West Bank and Gaza         WBG  2014   \n",
            "13371                              Yemen, Rep.         YEM  2014   \n",
            "13372                                   Zambia         ZMB  2014   \n",
            "13373                                 Zimbabwe         ZWE  2014   \n",
            "\n",
            "       Total Population  Urban population (% of total)  \n",
            "0          9.249590e+07                      31.285384  \n",
            "1          4.190810e+06                      31.597490  \n",
            "2          9.140158e+07                      44.507921  \n",
            "3          1.042475e+09                      22.471132  \n",
            "4          8.964930e+08                      16.917679  \n",
            "...                 ...                            ...  \n",
            "13369      1.041700e+05                      95.203000  \n",
            "13370      4.294682e+06                      75.026000  \n",
            "13371      2.618368e+07                      34.027000  \n",
            "13372      1.572134e+07                      40.472000  \n",
            "13373      1.524586e+07                      32.501000  \n",
            "\n",
            "[13374 rows x 5 columns]\n"
          ]
        }
      ]
    },
    {
      "cell_type": "code",
      "source": [
        "# fit exponential growth\n",
        "import scipy.optimize as opt\n",
        "popt, covar = opt.curve_fit(exp_growth, df_pop[\"Year\"], \n",
        "                            df_pop[\"Urban population (% of total)\"])"
      ],
      "metadata": {
        "id": "6IvBAWRY-h9T"
      },
      "id": "6IvBAWRY-h9T",
      "execution_count": null,
      "outputs": []
    },
    {
      "cell_type": "code",
      "source": [
        "print(\"Fit parameter\", popt)\n",
        "\n",
        "# use *popt to pass on the fit parameters\n",
        "df_pop[\"pop_exp\"] = exp_growth(df_pop[\"Year\"], *popt)\n",
        "\n",
        "\n",
        "\n",
        "\n",
        "plt.figure()\n",
        "plt.plot(df_pop[\"Year\"], df_pop[\"Urban population (% of total)\"], label=\"data\")\n",
        "plt.plot(df_pop[\"Year\"], df_pop[\"pop_exp\"], label=\"fit\")\n",
        "\n",
        "\n",
        "\n",
        "\n",
        "plt.legend()\n",
        "plt.title(\"First fit attempt\")\n",
        "plt.xlabel(\"year\")\n",
        "plt.ylabel(\"Urban population (% of total)\")\n",
        "plt.show()\n",
        "print()"
      ],
      "metadata": {
        "colab": {
          "base_uri": "https://localhost:8080/",
          "height": 330
        },
        "id": "UFNEgoKOCbA9",
        "outputId": "011216f4-ab4f-4a95-8afb-a74da718d4fe"
      },
      "id": "UFNEgoKOCbA9",
      "execution_count": null,
      "outputs": [
        {
          "output_type": "stream",
          "name": "stdout",
          "text": [
            "Fit parameter [-5.87470475e-15  1.00000000e+00]\n"
          ]
        },
        {
          "output_type": "display_data",
          "data": {
            "text/plain": [
              "<Figure size 432x288 with 1 Axes>"
            ],
            "image/png": "[encoded data removed]"
          },
          "metadata": {
            "needs_background": "light"
          }
        },
        {
          "output_type": "stream",
          "name": "stdout",
          "text": [
            "\n"
          ]
        }
      ]
    },
    {
      "cell_type": "code",
      "source": [
        "# find a feasible start value the pedestrian way\n",
        "# the scale factor is way too small. The exponential factor too large. \n",
        "# Try scaling with the 1960 urban population and a smaller exponential factor\n",
        "# decrease or increase exponential factor until rough agreement is reached\n",
        "\n",
        "popt = [2e8, 0.04]\n",
        "df_pop[\"pop_exp\"] = exp_growth(df_pop[\"Year\"], *popt)\n",
        "\n",
        "plt.figure()\n",
        "plt.plot(df_pop[\"Year\"], df_pop[\"Urban population (% of total)\"], label=\"data\")\n",
        "plt.plot(df_pop[\"Year\"], df_pop[\"pop_exp\"], label=\"fit\")\n",
        "\n",
        "plt.legend()\n",
        "plt.xlabel(\"year\")\n",
        "plt.ylabel(\"Urban population\")\n",
        "plt.title(\"Improved start value\")\n",
        "plt.show()\n"
      ],
      "metadata": {
        "colab": {
          "base_uri": "https://localhost:8080/",
          "height": 295
        },
        "id": "GechgtLSb1C5",
        "outputId": "832aee39-e794-4b37-d79c-f482d7081968"
      },
      "id": "GechgtLSb1C5",
      "execution_count": 57,
      "outputs": [
        {
          "output_type": "display_data",
          "data": {
            "text/plain": [
              "<Figure size 432x288 with 1 Axes>"
            ],
            "image/png": "[encoded data removed]"
          },
          "metadata": {
            "needs_background": "light"
          }
        }
      ]
    },
    {
      "cell_type": "code",
      "source": [
        "popt, covar = opt.curve_fit(logistics, df_pop[\"Year\"], df_pop[\"Urban population (% of total)\"], \n",
        "                            p0=(2e9, 0.05, 1990.0))\n",
        "print(\"Fit parameter\", popt)\n",
        "      \n",
        "df_pop[\"pop_log\"] = logistics(df_pop[\"Year\"], *popt)\n",
        "\n",
        "plt.figure()\n",
        "plt.title(\"logistics function\")\n",
        "plt.plot(df_pop[\"Year\"], df_pop[\"Urban population (% of total)\"], label=\"Year\")\n",
        "plt.plot(df_pop[\"Year\"], df_pop[\"pop_log\"], label=\"fit\")\n",
        "\n",
        "plt.legend()\n",
        "plt.xlabel(\"year\")\n",
        "plt.ylabel(\"population\")\n",
        "plt.show()\n"
      ],
      "metadata": {
        "colab": {
          "base_uri": "https://localhost:8080/",
          "height": 313
        },
        "id": "D8X3MAFs-fU_",
        "outputId": "a2c0be88-c6be-474d-c70c-f396d4d2c4c4"
      },
      "id": "D8X3MAFs-fU_",
      "execution_count": 61,
      "outputs": [
        {
          "output_type": "stream",
          "name": "stdout",
          "text": [
            "Fit parameter [6.44612320e+01 3.62630989e-02 1.95324024e+03]\n"
          ]
        },
        {
          "output_type": "display_data",
          "data": {
            "text/plain": [
              "<Figure size 432x288 with 1 Axes>"
            ],
            "image/png": "[encoded data removed]"
          },
          "metadata": {
            "needs_background": "light"
          }
        }
      ]
    },
    {
      "cell_type": "code",
      "source": [
        "def err_ranges(x, func, param, sigma):\n",
        "    \"\"\"\n",
        "    Calculates the upper and lower limits for the function, parameters and\n",
        "    sigmas for single value or array x. Functions values are calculated for \n",
        "    all combinations of +/- sigma and the minimum and maximum is determined.\n",
        "    Can be used for all number of parameters and sigmas >=1.\n",
        "    \n",
        "    \n",
        "    \"\"\"\n",
        "\n",
        "    import itertools as iter\n",
        "    \n",
        "    # initiate arrays for lower and upper limits\n",
        "    lower = func(x, *param)\n",
        "    upper = lower\n",
        "    \n",
        "    uplow = []   # list to hold upper and lower limits for parameters\n",
        "    for p,s in zip(param, sigma):\n",
        "        pmin = p - s\n",
        "        pmax = p + s\n",
        "        uplow.append((pmin, pmax))\n",
        "        \n",
        "    pmix = list(iter.product(*uplow))\n",
        "    \n",
        "    for p in pmix:\n",
        "        y = func(x, *p)\n",
        "        lower = np.minimum(lower, y)\n",
        "        upper = np.maximum(upper, y)\n",
        "        \n",
        "    return lower, upper   \n",
        "\n"
      ],
      "metadata": {
        "id": "SaUdbvbLdxfy"
      },
      "id": "SaUdbvbLdxfy",
      "execution_count": null,
      "outputs": []
    },
    {
      "cell_type": "code",
      "source": [
        "# extract the sigmas from the diagonal of the covariance matrix\n",
        "sigma = np.sqrt(np.diag(covar))\n",
        "print(sigma)\n",
        "\n",
        "low, up = err_ranges(df_pop[\"Year\"], logistics, popt, sigma)\n",
        "\n",
        "plt.figure()\n",
        "plt.title(\"logistics function\")\n",
        "plt.plot(df_pop[\"Year\"], df_pop[\"Urban population (% of total)\"], label=\"data\")\n",
        "plt.plot(df_pop[\"Year\"], df_pop[\"pop_log\"], label=\"fit\")\n",
        "\n",
        "plt.fill_between(df_pop[\"Year\"], low, up, alpha=0.7)\n",
        "plt.legend()\n",
        "plt.xlabel(\"year\")\n",
        "plt.ylabel(\"population\")\n",
        "plt.show()"
      ],
      "metadata": {
        "colab": {
          "base_uri": "https://localhost:8080/",
          "height": 313
        },
        "id": "PtcgXp27d1bp",
        "outputId": "73120b72-ce59-4b6d-8cf9-35d278f6c196"
      },
      "id": "PtcgXp27d1bp",
      "execution_count": null,
      "outputs": [
        {
          "output_type": "stream",
          "name": "stdout",
          "text": [
            "[2.58480491 0.00489522 1.4237261 ]\n"
          ]
        },
        {
          "output_type": "display_data",
          "data": {
            "text/plain": [
              "<Figure size 432x288 with 1 Axes>"
            ],
            "image/png": "[encoded data removed]"
          },
          "metadata": {
            "needs_background": "light"
          }
        }
      ]
    },
    {
      "cell_type": "code",
      "source": [
        "def err_ranges(x, func, param, sigma):\n",
        "    \n",
        "    import itertools as iter\n",
        "    \n",
        "    # initiate arrays for lower and upper limits\n",
        "    lower = func(x, *param)\n",
        "    upper = lower\n",
        "    \n",
        "    uplow = []   # list to hold upper and lower limits for parameters\n",
        "    for p,s in zip(param, sigma):\n",
        "        pmin = p - s\n",
        "        pmax = p + s\n",
        "        uplow.append((pmin, pmax))\n",
        "        \n",
        "    pmix = list(iter.product(*uplow))\n",
        "    \n",
        "    for p in pmix:\n",
        "        y = func(x, *p)\n",
        "        lower = np.minimum(lower, y)\n",
        "        upper = np.maximum(upper, y)\n",
        "        \n",
        "    return lower, upper   "
      ],
      "metadata": {
        "id": "VkYc-bFtqRiZ"
      },
      "id": "VkYc-bFtqRiZ",
      "execution_count": null,
      "outputs": []
    },
    {
      "cell_type": "code",
      "source": [
        "print(\"Forcasted population\")\n",
        "low, up = err_ranges(2030, logistics, popt, sigma)\n",
        "print(\"2030 between \", low, \"and\", up)\n",
        "low, up = err_ranges(2040, logistics, popt, sigma)\n",
        "print(\"2040 between \", low, \"and\", up)\n",
        "low, up = err_ranges(2050, logistics, popt, sigma)\n",
        "print(\"2050 between \", low, \"and\", up)"
      ],
      "metadata": {
        "colab": {
          "base_uri": "https://localhost:8080/"
        },
        "id": "O1yk-YIqthoI",
        "outputId": "88c35b74-7cdf-47fb-a69f-c1fc09f97a22"
      },
      "id": "O1yk-YIqthoI",
      "execution_count": null,
      "outputs": [
        {
          "output_type": "stream",
          "name": "stdout",
          "text": [
            "Forcasted population\n",
            "2030 between  56.55334332078222 and 64.46492421918052\n",
            "2040 between  57.8943279846706 and 65.31328372734191\n",
            "2050 between  58.91518233348309 and 65.88781444229657\n"
          ]
        }
      ]
    },
    {
      "cell_type": "code",
      "source": [
        "print(\"Forcasted population\")\n",
        "low, up = err_ranges(2030, logistics, popt, sigma)\n",
        "mean = (up+low) / 2.0\n",
        "pm = (up-low) / 2.0\n",
        "print(\"2030:\", mean, \"+/-\", pm)\n",
        "\n",
        "low, up = err_ranges(2040, logistics, popt, sigma)\n",
        "mean = (up+low) / 2.0\n",
        "pm = (up-low) / 2.0\n",
        "print(\"2040:\", mean, \"+/-\", pm)\n",
        "\n",
        "low, up = err_ranges(2050, logistics, popt, sigma)\n",
        "mean = (up+low) / 2.0\n",
        "pm = (up-low) / 2.0\n",
        "print(\"2050:\", mean, \"+/-\", pm)"
      ],
      "metadata": {
        "colab": {
          "base_uri": "https://localhost:8080/"
        },
        "id": "jcChbBmnuxUs",
        "outputId": "f9bf3772-e32d-46fd-a06e-fcabe83e4955"
      },
      "id": "jcChbBmnuxUs",
      "execution_count": null,
      "outputs": [
        {
          "output_type": "stream",
          "name": "stdout",
          "text": [
            "Forcasted population\n",
            "2030: 60.50913376998137 +/- 3.9557904491991494\n",
            "2040: 61.60380585600626 +/- 3.709477871335654\n",
            "2050: 62.40149838788983 +/- 3.4863160544067426\n"
          ]
        }
      ]
    },
    {
      "cell_type": "code",
      "source": [
        "sigma = np.sqrt(np.diag(covar))\n",
        "print(sigma)\n",
        "\n",
        "low, up = err_ranges(df_pop[\"Year\"], logistics, popt, sigma)\n",
        "\n",
        "plt.figure()\n",
        "plt.title(\"err_ranges\")\n",
        "plt.plot(low, up)\n",
        "#plt.plot(df_pop[\"Year\"], df_pop[\"pop\"], label=\"fit\")\n",
        "\n",
        "\n",
        "plt.legend()\n",
        "plt.xlabel(\"year\")\n",
        "plt.ylabel(\"Urban population (% of total)\")\n",
        "plt.show()"
      ],
      "metadata": {
        "colab": {
          "base_uri": "https://localhost:8080/",
          "height": 330
        },
        "id": "YF6lhVHGu23p",
        "outputId": "1ecf37d1-8e79-4c45-bc34-42678fe6c13f"
      },
      "id": "YF6lhVHGu23p",
      "execution_count": null,
      "outputs": [
        {
          "output_type": "stream",
          "name": "stderr",
          "text": [
            "No handles with labels found to put in legend.\n"
          ]
        },
        {
          "output_type": "stream",
          "name": "stdout",
          "text": [
            "[2.58480491 0.00489522 1.4237261 ]\n"
          ]
        },
        {
          "output_type": "display_data",
          "data": {
            "text/plain": [
              "<Figure size 432x288 with 1 Axes>"
            ],
            "image/png": "[encoded data removed]"
          },
          "metadata": {
            "needs_background": "light"
          }
        }
      ]
    },
    {
      "cell_type": "markdown",
      "id": "794551ec",
      "metadata": {
        "id": "794551ec"
      },
      "source": [
        "Read in and normalise"
      ]
    }
  ],
  "metadata": {
    "kernelspec": {
      "display_name": "Python 3 (ipykernel)",
      "language": "python",
      "name": "python3"
    },
    "language_info": {
      "codemirror_mode": {
        "name": "ipython",
        "version": 3
      },
      "file_extension": ".py",
      "mimetype": "text/x-python",
      "name": "python",
      "nbconvert_exporter": "python",
      "pygments_lexer": "ipython3",
      "version": "3.9.7"
    },
    "colab": {
      "name": "fishy.ipynb",
      "provenance": [],
      "collapsed_sections": []
    }
  },
  "nbformat": 4,
  "nbformat_minor": 5
}